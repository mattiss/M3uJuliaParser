{
  "nbformat": 4,
  "nbformat_minor": 0,
  "metadata": {
    "colab": {
      "name": "julia_prepare_m3u_playlists.ipynb",
      "provenance": [],
      "collapsed_sections": [],
      "include_colab_link": true
    },
    "kernelspec": {
      "display_name": "Julia",
      "language": "julia",
      "name": "julia"
    },
    "language_info": {
      "file_extension": ".jl",
      "mimetype": "application/julia",
      "name": "julia"
    }
  },
  "cells": [
    {
      "cell_type": "markdown",
      "metadata": {
        "id": "view-in-github",
        "colab_type": "text"
      },
      "source": [
        "<a href=\"https://colab.research.google.com/github/mattiss/M3uJuliaParser/blob/main/julia_prepare_m3u_playlists.ipynb\" target=\"_parent\"><img src=\"https://colab.research.google.com/assets/colab-badge.svg\" alt=\"Open In Colab\"/></a>"
      ]
    },
    {
      "cell_type": "markdown",
      "metadata": {
        "id": "tQ1r1bbb0yBv"
      },
      "source": [
        "# <img src=\"https://github.com/JuliaLang/julia-logo-graphics/raw/master/images/julia-logo-color.png\" height=\"100\" /> _Colab Notebook Template_\n",
        "\n",
        "## Instructions\n",
        "1. Work on a copy of this notebook: _File_ > _Save a copy in Drive_ (you will need a Google account). Alternatively, you can download the notebook using _File_ > _Download .ipynb_, then upload it to [Colab](https://colab.research.google.com/).\n",
        "2. If you need a GPU: _Runtime_ > _Change runtime type_ > _Harware accelerator_ = _GPU_.\n",
        "3. Execute the following cell (click on it and press Ctrl+Enter) to install Julia, IJulia and other packages (if needed, update `JULIA_VERSION` and the other parameters). This takes a couple of minutes.\n",
        "4. Reload this page (press Ctrl+R, or ⌘+R, or the F5 key) and continue to the next section.\n",
        "\n",
        "_Notes_:\n",
        "* If your Colab Runtime gets reset (e.g., due to inactivity), repeat steps 2, 3 and 4.\n",
        "* After installation, if you want to change the Julia version or activate/deactivate the GPU, you will need to reset the Runtime: _Runtime_ > _Factory reset runtime_ and repeat steps 3 and 4."
      ]
    },
    {
      "cell_type": "code",
      "metadata": {
        "id": "GIeFXS0F0zww",
        "colab": {
          "base_uri": "https://localhost:8080/"
        },
        "outputId": "a8061eb8-76ec-41dc-8b9e-bc5d801bd955"
      },
      "source": [
        "%%shell\n",
        "set -e\n",
        "\n",
        "#---------------------------------------------------#\n",
        "JULIA_VERSION=\"1.7.2\" # any version ≥ 0.7.0\n",
        "JULIA_PACKAGES=\"IJulia BenchmarkTools Plots\"\n",
        "JULIA_PACKAGES_IF_GPU=\"CUDA\" # or CuArrays for older Julia versions\n",
        "JULIA_NUM_THREADS=2\n",
        "#---------------------------------------------------#\n",
        "\n",
        "if [ -n \"$COLAB_GPU\" ] && [ -z `which julia` ]; then\n",
        "  # Install Julia\n",
        "  JULIA_VER=`cut -d '.' -f -2 <<< \"$JULIA_VERSION\"`\n",
        "  echo \"Installing Julia $JULIA_VERSION on the current Colab Runtime...\"\n",
        "  BASE_URL=\"https://julialang-s3.julialang.org/bin/linux/x64\"\n",
        "  URL=\"$BASE_URL/$JULIA_VER/julia-$JULIA_VERSION-linux-x86_64.tar.gz\"\n",
        "  wget -nv $URL -O /tmp/julia.tar.gz # -nv means \"not verbose\"\n",
        "  tar -x -f /tmp/julia.tar.gz -C /usr/local --strip-components 1\n",
        "  rm /tmp/julia.tar.gz\n",
        "\n",
        "  # Install Packages\n",
        "  if [ \"$COLAB_GPU\" = \"1\" ]; then\n",
        "      JULIA_PACKAGES=\"$JULIA_PACKAGES $JULIA_PACKAGES_IF_GPU\"\n",
        "  fi\n",
        "  for PKG in `echo $JULIA_PACKAGES`; do\n",
        "    echo \"Installing Julia package $PKG...\"\n",
        "    julia -e 'using Pkg; pkg\"add '$PKG'; precompile;\"' &> /dev/null\n",
        "  done\n",
        "\n",
        "  # Install kernel and rename it to \"julia\"\n",
        "  echo \"Installing IJulia kernel...\"\n",
        "  julia -e 'using IJulia; IJulia.installkernel(\"julia\", env=Dict(\n",
        "      \"JULIA_NUM_THREADS\"=>\"'\"$JULIA_NUM_THREADS\"'\"))'\n",
        "  KERNEL_DIR=`julia -e \"using IJulia; print(IJulia.kerneldir())\"`\n",
        "  KERNEL_NAME=`ls -d \"$KERNEL_DIR\"/julia*`\n",
        "  mv -f $KERNEL_NAME \"$KERNEL_DIR\"/julia  \n",
        "\n",
        "  echo ''\n",
        "  echo \"Successfully installed `julia -v`!\"\n",
        "  echo \"Please reload this page (press Ctrl+R, ⌘+R, or the F5 key) then\"\n",
        "  echo \"jump to the 'Checking the Installation' section.\"\n",
        "fi"
      ],
      "execution_count": null,
      "outputs": [
        {
          "output_type": "stream",
          "name": "stdout",
          "text": [
            "Installing Julia 1.7.2 on the current Colab Runtime...\n",
            "2022-04-15 18:08:16 URL:https://julialang-s3.julialang.org/bin/linux/x64/1.7/julia-1.7.2-linux-x86_64.tar.gz [123295596/123295596] -> \"/tmp/julia.tar.gz\" [1]\n",
            "Installing Julia package IJulia...\n",
            "Installing Julia package BenchmarkTools...\n",
            "Installing Julia package Plots...\n"
          ]
        }
      ]
    },
    {
      "cell_type": "markdown",
      "metadata": {
        "id": "-OS3Ac017T1i"
      },
      "source": [
        "# Reading the original m3u file\n",
        "Change that to the relevant directory"
      ]
    },
    {
      "cell_type": "code",
      "metadata": {
        "id": "EEzvvzCl1i0F",
        "colab": {
          "base_uri": "https://localhost:8080/"
        },
        "outputId": "1f7a9bc5-256e-4c6d-b52c-0f89b7643554"
      },
      "source": [
        "m3u_file = \"/home/jovyan/work/dev/julia/data/m3u/tv_channels_SWFAF06091.m3u\"\n",
        "m3u_file = \"http://mvu03.wanicelife.com:8880/get.php?username=SWFAF06091&password=BUPY5CDE&type=m3u&output=mpegts\""
      ],
      "execution_count": 3,
      "outputs": [
        {
          "output_type": "execute_result",
          "data": {
            "text/plain": [
              "\"http://mvu03.wanicelife.com:8880/get.php?username=SWFAF06091&password=BUPY5CDE&type=m3u&output=mpegts\""
            ]
          },
          "metadata": {},
          "execution_count": 3
        }
      ]
    },
    {
      "cell_type": "code",
      "source": [
        "const REGEX_M3U_FILE_HEADER = r\"^#EXTM3U$\"\n",
        "const REGEX_M3U_GROUP_SEPARATOR = r\"^#EXTINF:-1,(?<name>((?<country>.*):)?-*\\|(?<group>.*)\\|-*)\"\n",
        "const REGEX_M3U_CHANNEL_INFORMATION = r\"^#EXTINF:-1,((?<id>.*):)?(?<name>.*?)( (?<res>(SD)|(HD)|(FHD)))?$\"\n",
        "\n",
        "channels = []\n",
        "open(m3u_file) do file\n",
        "    header = readline(file)\n",
        "    if (!occursin(REGEX_M3U_FILE_HEADER, header))\n",
        "        println(\"File $(m3u_file) is not a valid m3u file\")\n",
        "    end\n",
        "    i = 0\n",
        "    global country = \"\"\n",
        "    global group = \"\"\n",
        "    global id = \"\"\n",
        "    global name = \"\"\n",
        "    global res = \"\"\n",
        "    global url = \"\"\n",
        "    for ln in eachline(file)\n",
        "        r = match(REGEX_M3U_GROUP_SEPARATOR, ln)\n",
        "        if (!isnothing(r))\n",
        "            #println(\"Processing Group $(r[\"country\"]):$(r[\"group\"])...\")\n",
        "            country, group = r[\"country\"], r[\"group\"]\n",
        "        end\n",
        "        r = match(REGEX_M3U_CHANNEL_INFORMATION, ln)\n",
        "        if (!isnothing(r))\n",
        "            id, name, res = r[\"id\"], r[\"name\"], r[\"res\"]\n",
        "        else\n",
        "            channel = (country = country, group = group, id = id, name = name, res = res, url=ln)\n",
        "            push!(channels, channel)\n",
        "        end\n",
        "    end\n",
        "end\n",
        "println(\"Found $(length(channels)) channels\")"
      ],
      "metadata": {
        "colab": {
          "base_uri": "https://localhost:8080/",
          "height": 461
        },
        "id": "YjM_qq54lCcs",
        "outputId": "3f5d00c3-610e-48a7-b1cf-e92e62817663"
      },
      "execution_count": 4,
      "outputs": [
        {
          "output_type": "error",
          "ename": "LoadError",
          "evalue": "ignored",
          "traceback": [
            "SystemError: opening file \"http://mvu03.wanicelife.com:8880/get.php?username=SWFAF06091&password=BUPY5CDE&type=m3u&output=mpegts\": No such file or directory",
            "",
            "Stacktrace:",
            "  [1] systemerror(p::String, errno::Int32; extrainfo::Nothing)",
            "    @ Base ./error.jl:174",
            "  [2] #systemerror#68",
            "    @ ./error.jl:173 [inlined]",
            "  [3] systemerror",
            "    @ ./error.jl:173 [inlined]",
            "  [4] open(fname::String; lock::Bool, read::Nothing, write::Nothing, create::Nothing, truncate::Nothing, append::Nothing)",
            "    @ Base ./iostream.jl:293",
            "  [5] open",
            "    @ ./iostream.jl:282 [inlined]",
            "  [6] open(f::var\"#1#2\", args::String; kwargs::Base.Pairs{Symbol, Union{}, Tuple{}, NamedTuple{(), Tuple{}}})",
            "    @ Base ./io.jl:328",
            "  [7] open(f::Function, args::String)",
            "    @ Base ./io.jl:328",
            "  [8] top-level scope",
            "    @ In[4]:6",
            "  [9] eval",
            "    @ ./boot.jl:373 [inlined]",
            " [10] include_string(mapexpr::typeof(REPL.softscope), mod::Module, code::String, filename::String)",
            "    @ Base ./loading.jl:1196"
          ]
        }
      ]
    },
    {
      "cell_type": "code",
      "metadata": {
        "id": "XciCcMAJOT3_",
        "colab": {
          "base_uri": "https://localhost:8080/"
        },
        "outputId": "3f403a0e-c036-4e30-de23-d742aea06487"
      },
      "source": [
        "using DataFrames\n",
        "df = DataFrame(channels)\n",
        "first(df,5)"
      ],
      "execution_count": null,
      "outputs": [
        {
          "output_type": "stream",
          "name": "stdout",
          "text": [
            "Sun Jan  9 02:26:33 2022       \n",
            "+-----------------------------------------------------------------------------+\n",
            "| NVIDIA-SMI 495.44       Driver Version: 460.32.03    CUDA Version: 11.2     |\n",
            "|-------------------------------+----------------------+----------------------+\n",
            "| GPU  Name        Persistence-M| Bus-Id        Disp.A | Volatile Uncorr. ECC |\n",
            "| Fan  Temp  Perf  Pwr:Usage/Cap|         Memory-Usage | GPU-Util  Compute M. |\n",
            "|                               |                      |               MIG M. |\n",
            "|===============================+======================+======================|\n",
            "|   0  Tesla K80           Off  | 00000000:00:04.0 Off |                    0 |\n",
            "| N/A   34C    P8    28W / 149W |      0MiB / 11441MiB |      0%      Default |\n",
            "|                               |                      |                  N/A |\n",
            "+-------------------------------+----------------------+----------------------+\n",
            "                                                                               \n",
            "+-----------------------------------------------------------------------------+\n",
            "| Processes:                                                                  |\n",
            "|  GPU   GI   CI        PID   Type   Process name                  GPU Memory |\n",
            "|        ID   ID                                                   Usage      |\n",
            "|=============================================================================|\n",
            "|  No running processes found                                                 |\n",
            "+-----------------------------------------------------------------------------+\n",
            "  473.438 ms (2 allocations: 32.00 MiB)\n"
          ]
        }
      ]
    },
    {
      "cell_type": "code",
      "source": [
        "const M3U_FILE_HEADER = \"#EXTM3U\"\n",
        "\n",
        "function print_channel(name, group, url)\n",
        "    println(\"#EXTINF:-1 group-title=\\\"$group\\\",$name $res\")\n",
        "    println(url)\n",
        "end\n",
        "\n",
        "function print_df(df)\n",
        "    s = \"\"\n",
        "    println(M3U_FILE_HEADER)\n",
        "    for row in eachrow(df)\n",
        "        print_channel(row[\"name\"], row[\"group\"], row[\"url\"])   \n",
        "    end\n",
        "end\n",
        "\n",
        "#print_df(df_fr)"
      ],
      "metadata": {
        "id": "-77TzZ_ycy8D"
      },
      "execution_count": null,
      "outputs": []
    },
    {
      "cell_type": "code",
      "source": [
        "function write_channel(f, name, group, url)\n",
        "    println(f, \"#EXTINF:-1 group-title=\\\"$group\\\",$name\")\n",
        "    println(f, url)\n",
        "end\n",
        "\n",
        "function write_df(output_file, df)\n",
        "    open(m3u_output_file, \"w\") do file\n",
        "        println(file, M3U_FILE_HEADER)\n",
        "        for row in eachrow(df)\n",
        "            if !isnothing(row[\"res\"])\n",
        "                write_channel(file, row[\"name\"]*\" \"*row[\"res\"], row[\"group\"], row[\"url\"])  \n",
        "            else\n",
        "                write_channel(file, row[\"name\"], row[\"group\"], row[\"url\"])  \n",
        "            end\n",
        "        end\n",
        "    end\n",
        "end"
      ],
      "metadata": {
        "id": "1__CYuAyc9DQ"
      },
      "execution_count": null,
      "outputs": []
    },
    {
      "cell_type": "code",
      "source": [
        "m3u_output_file = \"/home/jovyan/work/dev/julia/data/m3u/playlist.m3u\"\n",
        "df_fr = filter(row -> row.country == \"FR\", df)\n",
        "write_df(m3u_output_file, df_fr)"
      ],
      "metadata": {
        "id": "e4c5YkkDc9aJ"
      },
      "execution_count": null,
      "outputs": []
    },
    {
      "cell_type": "code",
      "source": [
        "m3u_output_file = \"/home/jovyan/work/dev/julia/data/m3u/playlist.usa.m3u\"\n",
        "df_usa = filter(row -> row.country == \"USA\", df)\n",
        "write_df(m3u_output_file, df_usa)"
      ],
      "metadata": {
        "id": "wEvgfy9XdGIe"
      },
      "execution_count": null,
      "outputs": []
    },
    {
      "cell_type": "code",
      "source": [
        "m3u_output_file = \"/home/jovyan/work/dev/julia/data/m3u/playlist.xxx.m3u\"\n",
        "df_xxx = filter(row -> row.group == \"xxx-VIP\", df)\n",
        "write_df(m3u_output_file, df_xxx)"
      ],
      "metadata": {
        "id": "kqYg4AXFdGWf"
      },
      "execution_count": null,
      "outputs": []
    },
    {
      "cell_type": "markdown",
      "metadata": {
        "id": "8RC1QNNqk6h1"
      },
      "source": [
        "# Need Help?\n",
        "\n",
        "* Learning: https://julialang.org/learning/\n",
        "* Documentation: https://docs.julialang.org/\n",
        "* Questions & Discussions:\n",
        "  * https://discourse.julialang.org/\n",
        "  * http://julialang.slack.com/\n",
        "  * https://stackoverflow.com/questions/tagged/julia\n",
        "\n",
        "If you ever ask for help or file an issue about Julia, you should generally provide the output of `versioninfo()`."
      ]
    },
    {
      "cell_type": "markdown",
      "metadata": {
        "id": "2UMidUQB03vJ"
      },
      "source": [
        "Add new code cells by clicking the `+ Code` button (or _Insert_ > _Code cell_).\n",
        "\n",
        "Have fun!\n",
        "\n",
        "<img src=\"https://raw.githubusercontent.com/JuliaLang/julia-logo-graphics/master/images/julia-logo-mask.png\" height=\"100\" />"
      ]
    }
  ]
}